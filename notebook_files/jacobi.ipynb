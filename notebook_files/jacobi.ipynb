{
 "cells": [
  {
   "cell_type": "markdown",
   "metadata": {},
   "source": [
    "# Jacobi Method for Solving System Of Linear Equation\n",
    "\n",
    "In numerical linear algebra, the Jacobi method is an iterative algorithm for determining the solutions of a strictly diagonally dominant system of linear equations. Each diagonal element is solved for, and an \n",
    "approximate value is plugged in. The process is then iterated until it converges."
   ]
  },
  {
   "cell_type": "code",
   "execution_count": 3,
   "metadata": {},
   "outputs": [],
   "source": [
    "import numpy as np\n",
    "from prettytable import PrettyTable\n",
    "\n",
    "table = PrettyTable()\n",
    "\n",
    "class JacobiMethod:\n",
    "    def __init__(self, coeff_matrix, const_vector, initial=None, accuracy=4):\n",
    "        self.coeff_matrix = coeff_matrix\n",
    "        self.const_vector = const_vector\n",
    "        self.solution = initial or [0 for _ in self.const_vector]\n",
    "        self.accuracy = accuracy\n",
    "        self.upper_limiting_error = (1/2) * (10 ** -self.accuracy)\n",
    "\n",
    "    def is_diag_dominant(self): \n",
    "        n = len(self.solution)\n",
    "\n",
    "        for i in range(n):\n",
    "            _sum = 0\n",
    "            for j in range(n):\n",
    "                if not i==j:\n",
    "                     _sum = _sum + abs(self.coeff_matrix[i][j])\n",
    "    \n",
    "            if (abs(self.coeff_matrix[i][i]) < _sum):\n",
    "                return False\n",
    "    \n",
    "        return True\n",
    "    \n",
    "    def calculate(self):\n",
    "        if not self.is_diag_dominant():\n",
    "            print(\"Sorry! the system of equation is not diagonally dominant.\")\n",
    "            return\n",
    "\n",
    "        n = len(self.solution)\n",
    "        x_new = [0 for _ in self.solution]\n",
    "\n",
    "        table.title = \"Iteration Table\"\n",
    "        table.field_names = ['n', *[f'x{i}' for i in range(1, n+1)]]\n",
    "\n",
    "        iteration = 1\n",
    "        while True:\n",
    "            table.add_row([iteration, *[f'{value:.{self.accuracy+1}f}' for value in self.solution]])\n",
    "\n",
    "            for i in range(n):\n",
    "                _sum = 0\n",
    "                for j in range(n):\n",
    "                    if not i == j:\n",
    "                        _sum -= self.coeff_matrix[i][j] * self.solution[j]\n",
    "                _sum += self.const_vector[i]\n",
    "                x_new[i] = _sum / self.coeff_matrix[i][i]\n",
    "\n",
    "            if max(abs(np.array(self.solution) - np.array(x_new))) < self.upper_limiting_error:\n",
    "                table.add_row([iteration+1, *[f'{value:.{self.accuracy+1}f}' for value in x_new]])\n",
    "                break\n",
    "\n",
    "            self.solution = [round(x, self.accuracy+1) for x in x_new]\n",
    "            iteration += 1\n",
    "\n",
    "        print(table)\n",
    "        print('\\nRequired Root : ', [f'{round(value, self.accuracy):.{self.accuracy}f}' for value in x_new])"
   ]
  },
  {
   "cell_type": "code",
   "execution_count": 4,
   "metadata": {},
   "outputs": [
    {
     "name": "stdout",
     "output_type": "stream",
     "text": [
      "+------------------------+\n",
      "|    Iteration Table     |\n",
      "+----+---------+---------+\n",
      "| n  |    x1   |    x2   |\n",
      "+----+---------+---------+\n",
      "| 1  | 0.00000 | 0.00000 |\n",
      "| 2  | 3.66667 | 3.20000 |\n",
      "| 3  | 2.60000 | 1.73333 |\n",
      "| 4  | 3.08889 | 2.16000 |\n",
      "| 5  | 2.94667 | 1.96444 |\n",
      "| 6  | 3.01185 | 2.02133 |\n",
      "| 7  | 2.99289 | 1.99526 |\n",
      "| 8  | 3.00158 | 2.00284 |\n",
      "| 9  | 2.99905 | 1.99937 |\n",
      "| 10 | 3.00021 | 2.00038 |\n",
      "| 11 | 2.99987 | 1.99992 |\n",
      "| 12 | 3.00003 | 2.00005 |\n",
      "| 13 | 2.99998 | 1.99999 |\n",
      "| 14 | 3.00000 | 2.00001 |\n",
      "+----+---------+---------+\n",
      "\n",
      "Required Root :  ['3.0000', '2.0000']\n"
     ]
    }
   ],
   "source": [
    "coeff_matrix = [[3, 1], [2, 5]]\n",
    "constant_vector = [11, 16]\n",
    "\n",
    "jm = JacobiMethod(coeff_matrix, constant_vector)\n",
    "jm.calculate()"
   ]
  },
  {
   "cell_type": "code",
   "execution_count": 5,
   "metadata": {},
   "outputs": [
    {
     "name": "stdout",
     "output_type": "stream",
     "text": [
      "Sorry! the system of equation is not diagonally dominant.\n"
     ]
    }
   ],
   "source": [
    "jm.coeff_matrix = [[2, 5], [3, 1]]\n",
    "jm.const_vector = [11, 16]\n",
    "\n",
    "jm.calculate()"
   ]
  }
 ],
 "metadata": {
  "kernelspec": {
   "display_name": "Python 3",
   "language": "python",
   "name": "python3"
  },
  "language_info": {
   "codemirror_mode": {
    "name": "ipython",
    "version": 3
   },
   "file_extension": ".py",
   "mimetype": "text/x-python",
   "name": "python",
   "nbconvert_exporter": "python",
   "pygments_lexer": "ipython3",
   "version": "3.8.5"
  }
 },
 "nbformat": 4,
 "nbformat_minor": 4
}
