{
 "cells": [
  {
   "cell_type": "markdown",
   "metadata": {},
   "source": [
    "# Classes\n"
   ]
  },
  {
   "cell_type": "markdown",
   "metadata": {},
   "source": [
    "## Defining class Movie\n"
   ]
  },
  {
   "cell_type": "code",
   "execution_count": 31,
   "metadata": {},
   "outputs": [],
   "source": [
    "class Movie:\n",
    "    def __init__(self, title, director, imdb_rating, release_year):\n",
    "        self.title = title\n",
    "        self.director = director\n",
    "        self.imdb_rating = imdb_rating\n",
    "        self.release_year = release_year\n",
    "     \n",
    "    @property\n",
    "    def get_display_title(self):\n",
    "        return \"{0} ({1})\".format(self.title, self.release_year)\n",
    "    \n",
    "    def __str__(self):\n",
    "        return \"<Movie: {}>\".format(self.title)"
   ]
  },
  {
   "cell_type": "markdown",
   "metadata": {},
   "source": [
    "## Instantiate objects of Class Movie"
   ]
  },
  {
   "cell_type": "code",
   "execution_count": 32,
   "metadata": {
    "scrolled": true
   },
   "outputs": [],
   "source": [
    "movie1 = Movie('The Shawshank Redemption', 'Frank Darabont', 9.3 , 1994 )\n",
    "movie2 = Movie('The Godfather', 'Francis Ford Coppola', 9.2 , 1972 )\n",
    "movie3 = Movie('The Mountain II', 'Alper Caglar', 9.2 , 2016 )\n",
    "movie4 = Movie('Natsamrat', 'Mahesh Manjrekar', 9.2 , 2016 )\n",
    "movie5 = Movie('The Dark Night', 'Christopher Nolan', 9 , 2008 )"
   ]
  },
  {
   "cell_type": "markdown",
   "metadata": {},
   "source": [
    "## Use the objects of class Movie"
   ]
  },
  {
   "cell_type": "code",
   "execution_count": 33,
   "metadata": {},
   "outputs": [
    {
     "name": "stdout",
     "output_type": "stream",
     "text": [
      "The Shawshank Redemption (1994)\n",
      "The Godfather (1972)\n",
      "The Mountain II (2016)\n",
      "Natsamrat (2016)\n",
      "The Dark Night (2008)\n"
     ]
    }
   ],
   "source": [
    "movies = [movie1, movie2, movie3, movie4, movie5]\n",
    "for movie in movies:\n",
    "    print(movie.get_display_title)"
   ]
  },
  {
   "cell_type": "markdown",
   "metadata": {},
   "source": [
    "## Filtering list of movies \n",
    "Get movies with rating 9.2 or higher"
   ]
  },
  {
   "cell_type": "code",
   "execution_count": 38,
   "metadata": {},
   "outputs": [
    {
     "name": "stdout",
     "output_type": "stream",
     "text": [
      "['The Shawshank Redemption (1994)', 'The Godfather (1972)', 'The Mountain II (2016)', 'Natsamrat (2016)']\n"
     ]
    }
   ],
   "source": [
    "filtered_movies = list(filter(lambda x: x.imdb_rating >= 9.2 ,movies))\n",
    "movie_list_by_display_title = list(map(lambda x: x.get_display_title ,filtered_movies)) \n",
    "print(movie_list_by_display_title)"
   ]
  },
  {
   "cell_type": "markdown",
   "metadata": {},
   "source": [
    "Filtering movies released on or after 2000"
   ]
  },
  {
   "cell_type": "code",
   "execution_count": 39,
   "metadata": {},
   "outputs": [
    {
     "name": "stdout",
     "output_type": "stream",
     "text": [
      "['The Mountain II (2016)', 'Natsamrat (2016)', 'The Dark Night (2008)']\n"
     ]
    }
   ],
   "source": [
    "filtered_movies = list(filter(lambda x: x.release_year >= 2000 ,movies))\n",
    "movie_list_by_display_title = list(map(lambda x: x.get_display_title ,filtered_movies)) \n",
    "print(movie_list_by_display_title)"
   ]
  }
 ],
 "metadata": {
  "kernelspec": {
   "display_name": "Python 3",
   "language": "python",
   "name": "python3"
  },
  "language_info": {
   "codemirror_mode": {
    "name": "ipython",
    "version": 3
   },
   "file_extension": ".py",
   "mimetype": "text/x-python",
   "name": "python",
   "nbconvert_exporter": "python",
   "pygments_lexer": "ipython3",
   "version": "3.8.3"
  }
 },
 "nbformat": 4,
 "nbformat_minor": 4
}
